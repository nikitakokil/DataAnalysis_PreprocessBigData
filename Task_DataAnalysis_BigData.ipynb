{
 "cells": [
  {
   "cell_type": "code",
   "execution_count": 2,
   "id": "182bfea7",
   "metadata": {},
   "outputs": [
    {
     "name": "stdout",
     "output_type": "stream",
     "text": [
      "Requirement already satisfied: pandas in c:\\users\\lenovo\\anaconda3\\lib\\site-packages (1.4.2)\n",
      "Requirement already satisfied: pymongo in c:\\users\\lenovo\\anaconda3\\lib\\site-packages (4.6.2)\n",
      "Requirement already satisfied: pytz>=2020.1 in c:\\users\\lenovo\\anaconda3\\lib\\site-packages (from pandas) (2021.3)\n",
      "Requirement already satisfied: numpy>=1.18.5 in c:\\users\\lenovo\\anaconda3\\lib\\site-packages (from pandas) (1.21.5)\n",
      "Requirement already satisfied: python-dateutil>=2.8.1 in c:\\users\\lenovo\\anaconda3\\lib\\site-packages (from pandas) (2.8.2)\n",
      "Requirement already satisfied: dnspython<3.0.0,>=1.16.0 in c:\\users\\lenovo\\anaconda3\\lib\\site-packages (from pymongo) (2.6.1)\n",
      "Requirement already satisfied: six>=1.5 in c:\\users\\lenovo\\anaconda3\\lib\\site-packages (from python-dateutil>=2.8.1->pandas) (1.16.0)\n",
      "Note: you may need to restart the kernel to use updated packages.\n"
     ]
    }
   ],
   "source": [
    "pip install pandas pymongo"
   ]
  },
  {
   "cell_type": "code",
   "execution_count": 6,
   "id": "32daa87b",
   "metadata": {},
   "outputs": [
    {
     "name": "stdout",
     "output_type": "stream",
     "text": [
      "                        _id UserID Age Income Transactions Membership_Level\n",
      "0  65ffb2d1e5e069a4756e8c91      1  24  55000           15             Gold\n",
      "1  65ffb2d1e5e069a4756e8c92      2  32  82000           22         Platinum\n",
      "2  65ffb2d1e5e069a4756e8c93      3  29  60000           18           Silver\n",
      "3  65ffb2d1e5e069a4756e8c94      4  41  75000           30         Platinum\n",
      "4  65ffb2d1e5e069a4756e8c95      5  36  58000           12             Gold\n",
      "<class 'pandas.core.frame.DataFrame'>\n",
      "RangeIndex: 5 entries, 0 to 4\n",
      "Data columns (total 6 columns):\n",
      " #   Column            Non-Null Count  Dtype \n",
      "---  ------            --------------  ----- \n",
      " 0   _id               5 non-null      object\n",
      " 1   UserID            5 non-null      object\n",
      " 2   Age               5 non-null      object\n",
      " 3   Income            5 non-null      object\n",
      " 4   Transactions      5 non-null      object\n",
      " 5   Membership_Level  5 non-null      object\n",
      "dtypes: object(6)\n",
      "memory usage: 368.0+ bytes\n"
     ]
    }
   ],
   "source": [
    "import pandas as pd\n",
    "from pymongo import MongoClient\n",
    "\n",
    "# Connect to MongoDB\n",
    "client = MongoClient('mongodb://localhost:27017/')  \n",
    "# Select database and collection\n",
    "db = client['Task_7']\n",
    "collection = db['LearnTube_Data']\n",
    "\n",
    "# Query MongoDB and load data into a DataFrame\n",
    "data_from_mongodb = list(collection.find())  # Fetch all documents from the collection\n",
    "df = pd.DataFrame(data_from_mongodb)\n",
    "\n",
    "# Close MongoDB connection\n",
    "client.close()\n",
    "\n",
    "# Display the DataFrame\n",
    "print(df)\n",
    "\n",
    "#df.info()\n",
    "df['Age'] = pd.to_numeric(df['Age'], errors='coerce')\n",
    "df['Income'] = pd.to_numeric(df['Income'], errors='coerce')\n",
    "df['Income'] = pd.to_numeric(df['Income'], errors='coerce')\n",
    "df['Income'] = pd.to_numeric(df['Income'], errors='coerce')"
   ]
  },
  {
   "cell_type": "code",
   "execution_count": 7,
   "id": "8cabb37d",
   "metadata": {},
   "outputs": [
    {
     "name": "stdout",
     "output_type": "stream",
     "text": [
      "Average Income by Membership Level:\n",
      "Membership_Level\n",
      "Gold        0.055556\n",
      "Platinum    0.870370\n",
      "Silver      0.185185\n",
      "Name: Income, dtype: float64\n",
      "\n",
      "Average Transactions by Membership Level:\n",
      "Membership_Level\n",
      "Gold         756.0\n",
      "Platinum    1115.0\n",
      "Silver        18.0\n",
      "Name: Transactions, dtype: float64\n",
      "\n",
      "Correlation Matrix:\n",
      "             Age    Income\n",
      "Age     1.000000  0.504446\n",
      "Income  0.504446  1.000000\n"
     ]
    }
   ],
   "source": [
    "\n",
    "df.drop_duplicates(inplace=True)\n",
    "df.dropna(inplace=True)\n",
    "\n",
    "# Normalize Income column\n",
    "df['Income'] = (df['Income'] - df['Income'].min()) / (df['Income'].max() - df['Income'].min())\n",
    "\n",
    "# EDA\n",
    "avg_income_by_membership = df.groupby('Membership_Level')['Income'].mean()\n",
    "avg_transactions_by_membership = df.groupby('Membership_Level')['Transactions'].mean()\n",
    "\n",
    "# Correlations\n",
    "correlation_matrix = df[['Age', 'Income', 'Transactions']].corr()\n",
    "\n",
    "print(\"Average Income by Membership Level:\")\n",
    "print(avg_income_by_membership)\n",
    "print(\"\\nAverage Transactions by Membership Level:\")\n",
    "print(avg_transactions_by_membership)\n",
    "print(\"\\nCorrelation Matrix:\")\n",
    "print(correlation_matrix)"
   ]
  },
  {
   "cell_type": "code",
   "execution_count": null,
   "id": "b94ba0cd",
   "metadata": {},
   "outputs": [],
   "source": []
  }
 ],
 "metadata": {
  "kernelspec": {
   "display_name": "Python 3 (ipykernel)",
   "language": "python",
   "name": "python3"
  },
  "language_info": {
   "codemirror_mode": {
    "name": "ipython",
    "version": 3
   },
   "file_extension": ".py",
   "mimetype": "text/x-python",
   "name": "python",
   "nbconvert_exporter": "python",
   "pygments_lexer": "ipython3",
   "version": "3.9.12"
  }
 },
 "nbformat": 4,
 "nbformat_minor": 5
}
